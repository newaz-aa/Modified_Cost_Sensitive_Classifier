{
 "cells": [
  {
   "cell_type": "markdown",
   "id": "788af2e6",
   "metadata": {},
   "source": [
    "# Importing files"
   ]
  },
  {
   "cell_type": "code",
   "execution_count": 1,
   "id": "6c11b781",
   "metadata": {},
   "outputs": [],
   "source": [
    "\"\"\"\n",
    "Created on Sat May  4 16:09:45 2024\n",
    "\n",
    "@author: asif newaz\n",
    "\"\"\"\n",
    "\n",
    "import sklearn\n",
    "import numpy as np\n",
    "import pandas as pd\n",
    "from sklearn.svm import SVC\n",
    "from sklearn.linear_model import LogisticRegression\n",
    "from sklearn.neighbors import KNeighborsClassifier\n",
    "from sklearn.tree import DecisionTreeClassifier\n",
    "from sklearn.ensemble import RandomForestClassifier"
   ]
  },
  {
   "cell_type": "code",
   "execution_count": 2,
   "id": "4036aab3",
   "metadata": {},
   "outputs": [],
   "source": [
    "from icost import iCost"
   ]
  },
  {
   "cell_type": "code",
   "execution_count": 3,
   "id": "c14ed71b",
   "metadata": {},
   "outputs": [],
   "source": [
    "from sklearn.model_selection import *\n",
    "from sklearn.metrics import *\n",
    "from sklearn.preprocessing import *\n",
    "from imblearn.pipeline import Pipeline\n",
    "from imblearn.metrics import *\n",
    "\n",
    "sc= MinMaxScaler()\n",
    "\n",
    "scores={'accuracy': make_scorer(accuracy_score),\n",
    "        'recall' : make_scorer(recall_score),\n",
    "        'specificity':make_scorer(recall_score,pos_label=0),\n",
    "        'gmean': make_scorer(geometric_mean_score),\n",
    "        'roc': make_scorer(roc_auc_score),\n",
    "        'precision':make_scorer(precision_score),\n",
    "        'mcc':make_scorer(matthews_corrcoef),\n",
    "        'f1': make_scorer(f1_score)\n",
    "        }"
   ]
  },
  {
   "cell_type": "markdown",
   "id": "9695da08",
   "metadata": {},
   "source": [
    "# implementation"
   ]
  },
  {
   "cell_type": "code",
   "execution_count": 4,
   "id": "92247089",
   "metadata": {},
   "outputs": [
    {
     "data": {
      "text/html": [
       "<div>\n",
       "<style scoped>\n",
       "    .dataframe tbody tr th:only-of-type {\n",
       "        vertical-align: middle;\n",
       "    }\n",
       "\n",
       "    .dataframe tbody tr th {\n",
       "        vertical-align: top;\n",
       "    }\n",
       "\n",
       "    .dataframe thead th {\n",
       "        text-align: right;\n",
       "    }\n",
       "</style>\n",
       "<table border=\"1\" class=\"dataframe\">\n",
       "  <thead>\n",
       "    <tr style=\"text-align: right;\">\n",
       "      <th></th>\n",
       "      <th>F1</th>\n",
       "      <th>F2</th>\n",
       "      <th>F3</th>\n",
       "      <th>F4</th>\n",
       "      <th>F5</th>\n",
       "      <th>F6</th>\n",
       "      <th>F7</th>\n",
       "      <th>Class</th>\n",
       "    </tr>\n",
       "  </thead>\n",
       "  <tbody>\n",
       "    <tr>\n",
       "      <th>0</th>\n",
       "      <td>0.49</td>\n",
       "      <td>0.29</td>\n",
       "      <td>0.48</td>\n",
       "      <td>0.5</td>\n",
       "      <td>0.56</td>\n",
       "      <td>0.24</td>\n",
       "      <td>0.35</td>\n",
       "      <td>0</td>\n",
       "    </tr>\n",
       "    <tr>\n",
       "      <th>1</th>\n",
       "      <td>0.07</td>\n",
       "      <td>0.40</td>\n",
       "      <td>0.48</td>\n",
       "      <td>0.5</td>\n",
       "      <td>0.54</td>\n",
       "      <td>0.35</td>\n",
       "      <td>0.44</td>\n",
       "      <td>0</td>\n",
       "    </tr>\n",
       "    <tr>\n",
       "      <th>2</th>\n",
       "      <td>0.56</td>\n",
       "      <td>0.40</td>\n",
       "      <td>0.48</td>\n",
       "      <td>0.5</td>\n",
       "      <td>0.49</td>\n",
       "      <td>0.37</td>\n",
       "      <td>0.46</td>\n",
       "      <td>0</td>\n",
       "    </tr>\n",
       "    <tr>\n",
       "      <th>3</th>\n",
       "      <td>0.59</td>\n",
       "      <td>0.49</td>\n",
       "      <td>0.48</td>\n",
       "      <td>0.5</td>\n",
       "      <td>0.52</td>\n",
       "      <td>0.45</td>\n",
       "      <td>0.36</td>\n",
       "      <td>0</td>\n",
       "    </tr>\n",
       "    <tr>\n",
       "      <th>4</th>\n",
       "      <td>0.23</td>\n",
       "      <td>0.32</td>\n",
       "      <td>0.48</td>\n",
       "      <td>0.5</td>\n",
       "      <td>0.55</td>\n",
       "      <td>0.25</td>\n",
       "      <td>0.35</td>\n",
       "      <td>0</td>\n",
       "    </tr>\n",
       "    <tr>\n",
       "      <th>...</th>\n",
       "      <td>...</td>\n",
       "      <td>...</td>\n",
       "      <td>...</td>\n",
       "      <td>...</td>\n",
       "      <td>...</td>\n",
       "      <td>...</td>\n",
       "      <td>...</td>\n",
       "      <td>...</td>\n",
       "    </tr>\n",
       "    <tr>\n",
       "      <th>331</th>\n",
       "      <td>0.74</td>\n",
       "      <td>0.56</td>\n",
       "      <td>0.48</td>\n",
       "      <td>0.5</td>\n",
       "      <td>0.47</td>\n",
       "      <td>0.68</td>\n",
       "      <td>0.30</td>\n",
       "      <td>1</td>\n",
       "    </tr>\n",
       "    <tr>\n",
       "      <th>332</th>\n",
       "      <td>0.71</td>\n",
       "      <td>0.57</td>\n",
       "      <td>0.48</td>\n",
       "      <td>0.5</td>\n",
       "      <td>0.48</td>\n",
       "      <td>0.35</td>\n",
       "      <td>0.32</td>\n",
       "      <td>1</td>\n",
       "    </tr>\n",
       "    <tr>\n",
       "      <th>333</th>\n",
       "      <td>0.61</td>\n",
       "      <td>0.60</td>\n",
       "      <td>0.48</td>\n",
       "      <td>0.5</td>\n",
       "      <td>0.44</td>\n",
       "      <td>0.39</td>\n",
       "      <td>0.38</td>\n",
       "      <td>1</td>\n",
       "    </tr>\n",
       "    <tr>\n",
       "      <th>334</th>\n",
       "      <td>0.59</td>\n",
       "      <td>0.61</td>\n",
       "      <td>0.48</td>\n",
       "      <td>0.5</td>\n",
       "      <td>0.42</td>\n",
       "      <td>0.42</td>\n",
       "      <td>0.37</td>\n",
       "      <td>1</td>\n",
       "    </tr>\n",
       "    <tr>\n",
       "      <th>335</th>\n",
       "      <td>0.74</td>\n",
       "      <td>0.74</td>\n",
       "      <td>0.48</td>\n",
       "      <td>0.5</td>\n",
       "      <td>0.31</td>\n",
       "      <td>0.53</td>\n",
       "      <td>0.52</td>\n",
       "      <td>1</td>\n",
       "    </tr>\n",
       "  </tbody>\n",
       "</table>\n",
       "<p>336 rows × 8 columns</p>\n",
       "</div>"
      ],
      "text/plain": [
       "       F1    F2    F3   F4    F5    F6    F7  Class\n",
       "0    0.49  0.29  0.48  0.5  0.56  0.24  0.35      0\n",
       "1    0.07  0.40  0.48  0.5  0.54  0.35  0.44      0\n",
       "2    0.56  0.40  0.48  0.5  0.49  0.37  0.46      0\n",
       "3    0.59  0.49  0.48  0.5  0.52  0.45  0.36      0\n",
       "4    0.23  0.32  0.48  0.5  0.55  0.25  0.35      0\n",
       "..    ...   ...   ...  ...   ...   ...   ...    ...\n",
       "331  0.74  0.56  0.48  0.5  0.47  0.68  0.30      1\n",
       "332  0.71  0.57  0.48  0.5  0.48  0.35  0.32      1\n",
       "333  0.61  0.60  0.48  0.5  0.44  0.39  0.38      1\n",
       "334  0.59  0.61  0.48  0.5  0.42  0.42  0.37      1\n",
       "335  0.74  0.74  0.48  0.5  0.31  0.53  0.52      1\n",
       "\n",
       "[336 rows x 8 columns]"
      ]
     },
     "execution_count": 4,
     "metadata": {},
     "output_type": "execute_result"
    }
   ],
   "source": [
    "data= pd.read_csv('ecoli2.csv')\n",
    "data"
   ]
  },
  {
   "cell_type": "code",
   "execution_count": 9,
   "id": "99221514",
   "metadata": {},
   "outputs": [
    {
     "data": {
      "text/plain": [
       "0    284\n",
       "1     52\n",
       "Name: Class, dtype: int64"
      ]
     },
     "execution_count": 9,
     "metadata": {},
     "output_type": "execute_result"
    }
   ],
   "source": [
    "data['Class'].value_counts()"
   ]
  },
  {
   "cell_type": "markdown",
   "id": "cf8d611f",
   "metadata": {},
   "source": [
    "Implementing LR classifier for flag = 0, 1, and 2 with different cost-settings"
   ]
  },
  {
   "cell_type": "code",
   "execution_count": 5,
   "id": "cddcc888",
   "metadata": {},
   "outputs": [
    {
     "data": {
      "text/plain": [
       "fit_time             0.662895\n",
       "score_time           1.437023\n",
       "test_accuracy       89.557946\n",
       "test_recall         36.145455\n",
       "test_specificity    99.331454\n",
       "test_gmean          58.699687\n",
       "test_roc            67.738454\n",
       "test_precision      90.264286\n",
       "test_mcc            52.515349\n",
       "test_f1             50.445239\n",
       "dtype: float64"
      ]
     },
     "execution_count": 5,
     "metadata": {},
     "output_type": "execute_result"
    }
   ],
   "source": [
    "x=data.iloc[:,:-1]\n",
    "y=data.iloc[:,-1]\n",
    "x= sc.fit_transform(x)\n",
    "base= LogisticRegression()\n",
    "sv= iCost(base_classifier=base, flag=0)\n",
    "\n",
    "score = cross_validate(sv, x,y, cv=RepeatedStratifiedKFold(random_state=50), n_jobs=-1, scoring=scores)\n",
    "df=pd.DataFrame(score)\n",
    "df.mean()*100"
   ]
  },
  {
   "cell_type": "code",
   "execution_count": 6,
   "id": "7049e0d3",
   "metadata": {},
   "outputs": [
    {
     "data": {
      "text/plain": [
       "fit_time             0.496084\n",
       "score_time           1.036050\n",
       "test_accuracy       88.722564\n",
       "test_recall         91.400000\n",
       "test_specificity    88.243108\n",
       "test_gmean          89.666364\n",
       "test_roc            89.821554\n",
       "test_precision      59.522001\n",
       "test_mcc            67.758708\n",
       "test_f1             71.704639\n",
       "dtype: float64"
      ]
     },
     "execution_count": 6,
     "metadata": {},
     "output_type": "execute_result"
    }
   ],
   "source": [
    "x=data.iloc[:,:-1]\n",
    "y=data.iloc[:,-1]\n",
    "x= sc.fit_transform(x)\n",
    "base= LogisticRegression()\n",
    "sv= iCost(base_classifier=base, flag=1)\n",
    "\n",
    "score = cross_validate(sv, x,y, cv=RepeatedStratifiedKFold(random_state=50), n_jobs=-1, scoring=scores)\n",
    "df=pd.DataFrame(score)\n",
    "df.mean()*100"
   ]
  },
  {
   "cell_type": "code",
   "execution_count": 7,
   "id": "00b24df4",
   "metadata": {},
   "outputs": [
    {
     "data": {
      "text/plain": [
       "fit_time             1.244131\n",
       "score_time           1.171775\n",
       "test_accuracy       90.865233\n",
       "test_recall         78.818182\n",
       "test_specificity    93.068922\n",
       "test_gmean          85.429401\n",
       "test_roc            85.943552\n",
       "test_precision      68.326375\n",
       "test_mcc            67.889714\n",
       "test_f1             72.710059\n",
       "dtype: float64"
      ]
     },
     "execution_count": 7,
     "metadata": {},
     "output_type": "execute_result"
    }
   ],
   "source": [
    "x=data.iloc[:,:-1]\n",
    "y=data.iloc[:,-1]\n",
    "x= sc.fit_transform(x)\n",
    "base= LogisticRegression()\n",
    "sv= iCost(base_classifier=base, flag=2)\n",
    "\n",
    "score = cross_validate(sv, x,y, cv=RepeatedStratifiedKFold(random_state=50), n_jobs=-1, scoring=scores)\n",
    "df=pd.DataFrame(score)\n",
    "df.mean()*100"
   ]
  },
  {
   "cell_type": "code",
   "execution_count": 10,
   "id": "db1863ce",
   "metadata": {},
   "outputs": [
    {
     "data": {
      "text/plain": [
       "fit_time             0.972426\n",
       "score_time           1.041188\n",
       "test_accuracy       90.894644\n",
       "test_recall         81.145455\n",
       "test_specificity    92.682957\n",
       "test_gmean          86.504911\n",
       "test_roc            86.914206\n",
       "test_precision      67.820641\n",
       "test_mcc            68.744024\n",
       "test_f1             73.369432\n",
       "dtype: float64"
      ]
     },
     "execution_count": 10,
     "metadata": {},
     "output_type": "execute_result"
    }
   ],
   "source": [
    "x=data.iloc[:,:-1]\n",
    "y=data.iloc[:,-1]\n",
    "x= sc.fit_transform(x)\n",
    "base= LogisticRegression()\n",
    "sv= iCost(base_classifier=base, flag=2, cfb= 6.5, cfs=3, cfp = 1.25 )\n",
    "\n",
    "score = cross_validate(sv, x,y, cv=RepeatedStratifiedKFold(random_state=50), n_jobs=-1, scoring=scores)\n",
    "df=pd.DataFrame(score)\n",
    "df.mean()*100"
   ]
  },
  {
   "cell_type": "code",
   "execution_count": null,
   "id": "712cce93",
   "metadata": {},
   "outputs": [],
   "source": []
  }
 ],
 "metadata": {
  "kernelspec": {
   "display_name": "Python 3 (ipykernel)",
   "language": "python",
   "name": "python3"
  },
  "language_info": {
   "codemirror_mode": {
    "name": "ipython",
    "version": 3
   },
   "file_extension": ".py",
   "mimetype": "text/x-python",
   "name": "python",
   "nbconvert_exporter": "python",
   "pygments_lexer": "ipython3",
   "version": "3.9.7"
  }
 },
 "nbformat": 4,
 "nbformat_minor": 5
}
